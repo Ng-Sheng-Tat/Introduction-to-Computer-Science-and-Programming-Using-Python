{
 "cells": [
  {
   "cell_type": "markdown",
   "metadata": {},
   "source": [
    "``pip install -U ipykernel`` to install in the terminal in the current environment in advance first\n",
    "\n",
    "**Unit 3: Exercises 1**"
   ]
  },
  {
   "cell_type": "code",
   "execution_count": 1,
   "metadata": {},
   "outputs": [
    {
     "name": "stdout",
     "output_type": "stream",
     "text": [
      "Iteration 0; count is: 1\n",
      "Iteration 1; count is: 12\n",
      "Iteration 2; count is: 1\n",
      "Iteration 3; count is: 12\n",
      "Iteration 4; count is: 1\n"
     ]
    }
   ],
   "source": [
    "iteration = 0\n",
    "while iteration < 5:\n",
    "    count = 0\n",
    "    for letter in \"hello, world\":\n",
    "        count += 1\n",
    "        if iteration % 2 == 0:\n",
    "            break\n",
    "    print(\"Iteration \" + str(iteration) + \"; count is: \" + str(count))\n",
    "    iteration += 1 "
   ]
  },
  {
   "cell_type": "markdown",
   "metadata": {},
   "source": [
    "**Unit 3: Exercises 2**"
   ]
  },
  {
   "cell_type": "markdown",
   "metadata": {},
   "source": []
  },
  {
   "cell_type": "code",
   "execution_count": 1,
   "metadata": {},
   "outputs": [
    {
     "ename": "KeyboardInterrupt",
     "evalue": "",
     "output_type": "error",
     "traceback": [
      "\u001b[1;31m---------------------------------------------------------------------------\u001b[0m",
      "\u001b[1;31mKeyboardInterrupt\u001b[0m                         Traceback (most recent call last)",
      "\u001b[1;32md:\\Courses\\UG-(edx) Introduction to Computer Science and Programming Using Python\\Unit 2\\codes.ipynb Cell 5\u001b[0m in \u001b[0;36m<cell line: 6>\u001b[1;34m()\u001b[0m\n\u001b[0;32m      <a href='vscode-notebook-cell:/d%3A/Courses/UG-%28edx%29%20Introduction%20to%20Computer%20Science%20and%20Programming%20Using%20Python/Unit%202/codes.ipynb#W4sZmlsZQ%3D%3D?line=3'>4</a>\u001b[0m guess \u001b[39m=\u001b[39m \u001b[39m0.0\u001b[39m\n\u001b[0;32m      <a href='vscode-notebook-cell:/d%3A/Courses/UG-%28edx%29%20Introduction%20to%20Computer%20Science%20and%20Programming%20Using%20Python/Unit%202/codes.ipynb#W4sZmlsZQ%3D%3D?line=5'>6</a>\u001b[0m \u001b[39mwhile\u001b[39;00m guess \u001b[39m<\u001b[39m\u001b[39m=\u001b[39m x:\n\u001b[1;32m----> <a href='vscode-notebook-cell:/d%3A/Courses/UG-%28edx%29%20Introduction%20to%20Computer%20Science%20and%20Programming%20Using%20Python/Unit%202/codes.ipynb#W4sZmlsZQ%3D%3D?line=6'>7</a>\u001b[0m     \u001b[39mif\u001b[39;00m \u001b[39mabs\u001b[39m(guess\u001b[39m*\u001b[39m\u001b[39m*\u001b[39m\u001b[39m2\u001b[39m \u001b[39m-\u001b[39mx) \u001b[39m>\u001b[39m\u001b[39m=\u001b[39m epsilon:\n\u001b[0;32m      <a href='vscode-notebook-cell:/d%3A/Courses/UG-%28edx%29%20Introduction%20to%20Computer%20Science%20and%20Programming%20Using%20Python/Unit%202/codes.ipynb#W4sZmlsZQ%3D%3D?line=7'>8</a>\u001b[0m         guess \u001b[39m+\u001b[39m\u001b[39m=\u001b[39m step\n\u001b[0;32m     <a href='vscode-notebook-cell:/d%3A/Courses/UG-%28edx%29%20Introduction%20to%20Computer%20Science%20and%20Programming%20Using%20Python/Unit%202/codes.ipynb#W4sZmlsZQ%3D%3D?line=9'>10</a>\u001b[0m \u001b[39mif\u001b[39;00m \u001b[39mabs\u001b[39m(guess\u001b[39m*\u001b[39m\u001b[39m*\u001b[39m\u001b[39m2\u001b[39m \u001b[39m-\u001b[39m x) \u001b[39m>\u001b[39m\u001b[39m=\u001b[39m epsilon:\n",
      "\u001b[1;31mKeyboardInterrupt\u001b[0m: "
     ]
    }
   ],
   "source": [
    "x = 25\n",
    "epsilon = 0.01\n",
    "step = 0.1\n",
    "guess = 0.0\n",
    "\n",
    "while guess <= x:\n",
    "    if abs(guess**2 -x) >= epsilon:\n",
    "        guess += step\n",
    "\n",
    "if abs(guess**2 - x) >= epsilon:\n",
    "    print('failed')\n",
    "else:\n",
    "    print('succeeded: ' + str(guess))\n"
   ]
  },
  {
   "cell_type": "code",
   "execution_count": 3,
   "metadata": {},
   "outputs": [
    {
     "name": "stdout",
     "output_type": "stream",
     "text": [
      "failed\n"
     ]
    }
   ],
   "source": [
    "x = 23\n",
    "epsilon = 0.01\n",
    "step = 0.1\n",
    "guess = 0.0\n",
    "\n",
    "while abs(guess**2-x) >= epsilon:\n",
    "    if guess <= x:\n",
    "        guess += step\n",
    "    else:\n",
    "        break\n",
    "\n",
    "if abs(guess**2 - x) >= epsilon:\n",
    "    print('failed')\n",
    "else:\n",
    "    print('succeeded: ' + str(guess))"
   ]
  },
  {
   "cell_type": "markdown",
   "metadata": {},
   "source": [
    "**Unit 3: Exercises: Guess my number**"
   ]
  },
  {
   "cell_type": "code",
   "execution_count": 1,
   "metadata": {},
   "outputs": [
    {
     "name": "stdout",
     "output_type": "stream",
     "text": [
      "Please think of a number between 0 and 100!\n"
     ]
    }
   ],
   "source": [
    "print(\"Please think of a number between 0 and 100!\")\n",
    "low = 0\n",
    "high = 100\n",
    "mid = int((low + high)/2)\n",
    "print(\"Is your secret number \" + str(mid) + \"?\")\n",
    "guess = input(\"Enter 'h' to indicate the guess is too high. Enter 'l' to indicate the guess is too low. Enter 'c' to indicate I guessed correctly. \")\n",
    "\n",
    "while guess.lower() != \"c\":\n",
    "    if guess.lower() == \"h\":\n",
    "        high = mid\n",
    "        mid = int((low + high)/2)\n",
    "        print(\"Is your secret number \" + str(mid) + \"?\")\n",
    "    elif guess.lower() == \"l\":\n",
    "        low = mid\n",
    "        mid = int((low + high)/2)\n",
    "        print(\"Is your secret number \" + str(mid) + \"?\")\n",
    "    else:\n",
    "        print(\"Sorry, I did not understand your input.\")\n",
    "        print(\"Is your secret number \" + str(mid) + \"?\")\n",
    "\n",
    "    guess = input(\"Enter 'h' to indicate the guess is too high. Enter 'l' to indicate the guess is too low. Enter 'c' to indicate I guessed correctly. \")\n",
    "\n",
    "print(\"Game over. Your secret number was: \" + str(mid))"
   ]
  },
  {
   "cell_type": "markdown",
   "metadata": {},
   "source": [
    "**Unit 2: Functions exercise 2**"
   ]
  },
  {
   "cell_type": "code",
   "execution_count": 1,
   "metadata": {},
   "outputs": [],
   "source": [
    "def a(x):\n",
    "   '''\n",
    "   x: int or float.\n",
    "   '''\n",
    "   return x + 1\n",
    "\n",
    "def b(x):\n",
    "   '''\n",
    "   x: int or float.\n",
    "   '''\n",
    "   return x + 1.0\n",
    "  \n",
    "def c(x, y):\n",
    "   '''\n",
    "   x: int or float. \n",
    "   y: int or float.\n",
    "   '''\n",
    "   return x + y\n",
    "\n",
    "def d(x, y):\n",
    "   '''\n",
    "   x: Can be of any type.\n",
    "   y: Can be of any type.\n",
    "   '''\n",
    "   return x > y\n",
    "\n",
    "def e(x, y, z):\n",
    "   '''\n",
    "   x: Can be of any type.\n",
    "   y: Can be of any type.\n",
    "   z: Can be of any type.\n",
    "   '''\n",
    "   return x >= y and x <= z\n",
    "\n",
    "def f(x, y):\n",
    "   '''\n",
    "   x: int or float.\n",
    "   y: int or float\n",
    "   '''\n",
    "   x + y - 2  \n",
    "    "
   ]
  },
  {
   "cell_type": "code",
   "execution_count": 6,
   "metadata": {},
   "outputs": [
    {
     "data": {
      "text/plain": [
       "<function __main__.f(x, y)>"
      ]
     },
     "execution_count": 6,
     "metadata": {},
     "output_type": "execute_result"
    }
   ],
   "source": [
    "f"
   ]
  },
  {
   "cell_type": "code",
   "execution_count": 7,
   "metadata": {},
   "outputs": [],
   "source": [
    "def a(x, y, z):\n",
    "     if x:\n",
    "         return y\n",
    "     else:\n",
    "         return z\n",
    "\n",
    "def b(q, r):\n",
    "    return a(q>r, q, r)"
   ]
  },
  {
   "cell_type": "code",
   "execution_count": 9,
   "metadata": {},
   "outputs": [
    {
     "ename": "TypeError",
     "evalue": "'>' not supported between instances of 'function' and 'function'",
     "output_type": "error",
     "traceback": [
      "\u001b[1;31m---------------------------------------------------------------------------\u001b[0m",
      "\u001b[1;31mTypeError\u001b[0m                                 Traceback (most recent call last)",
      "\u001b[1;32md:\\Courses\\UG-(edx) Introduction to Computer Science and Programming Using Python\\Unit 2\\codes.ipynb Cell 13\u001b[0m in \u001b[0;36m<cell line: 1>\u001b[1;34m()\u001b[0m\n\u001b[1;32m----> <a href='vscode-notebook-cell:/d%3A/Courses/UG-%28edx%29%20Introduction%20to%20Computer%20Science%20and%20Programming%20Using%20Python/Unit%202/codes.ipynb#X16sZmlsZQ%3D%3D?line=0'>1</a>\u001b[0m b(a, b)\n",
      "\u001b[1;32md:\\Courses\\UG-(edx) Introduction to Computer Science and Programming Using Python\\Unit 2\\codes.ipynb Cell 13\u001b[0m in \u001b[0;36mb\u001b[1;34m(q, r)\u001b[0m\n\u001b[0;32m      <a href='vscode-notebook-cell:/d%3A/Courses/UG-%28edx%29%20Introduction%20to%20Computer%20Science%20and%20Programming%20Using%20Python/Unit%202/codes.ipynb#X16sZmlsZQ%3D%3D?line=6'>7</a>\u001b[0m \u001b[39mdef\u001b[39;00m \u001b[39mb\u001b[39m(q, r):\n\u001b[1;32m----> <a href='vscode-notebook-cell:/d%3A/Courses/UG-%28edx%29%20Introduction%20to%20Computer%20Science%20and%20Programming%20Using%20Python/Unit%202/codes.ipynb#X16sZmlsZQ%3D%3D?line=7'>8</a>\u001b[0m     \u001b[39mreturn\u001b[39;00m a(q\u001b[39m>\u001b[39;49mr, q, r)\n",
      "\u001b[1;31mTypeError\u001b[0m: '>' not supported between instances of 'function' and 'function'"
     ]
    }
   ],
   "source": [
    "b(a, b)"
   ]
  },
  {
   "cell_type": "code",
   "execution_count": 10,
   "metadata": {},
   "outputs": [
    {
     "data": {
      "text/plain": [
       "4"
      ]
     },
     "execution_count": 10,
     "metadata": {},
     "output_type": "execute_result"
    }
   ],
   "source": [
    "a = 10\n",
    "def f(x):\n",
    "    return x + a   \n",
    "a = 3\n",
    "f(1)"
   ]
  },
  {
   "cell_type": "code",
   "execution_count": 11,
   "metadata": {},
   "outputs": [
    {
     "data": {
      "text/plain": [
       "19"
      ]
     },
     "execution_count": 11,
     "metadata": {},
     "output_type": "execute_result"
    }
   ],
   "source": [
    "x = 12\n",
    "def g(x):\n",
    "    x += 1\n",
    "    def h(y):\n",
    "        return x + y\n",
    "    return h(6)\n",
    "g(x)"
   ]
  },
  {
   "cell_type": "code",
   "execution_count": 12,
   "metadata": {},
   "outputs": [],
   "source": [
    "str1 = 'exterminate!' \n",
    "str2 = 'number one - the larch'"
   ]
  },
  {
   "cell_type": "code",
   "execution_count": 17,
   "metadata": {},
   "outputs": [],
   "source": [
    "str2 = str2.capitalize()"
   ]
  },
  {
   "cell_type": "code",
   "execution_count": 26,
   "metadata": {},
   "outputs": [
    {
     "data": {
      "text/plain": [
       "3"
      ]
     },
     "execution_count": 26,
     "metadata": {},
     "output_type": "execute_result"
    }
   ],
   "source": [
    "str1.count('e')"
   ]
  },
  {
   "cell_type": "code",
   "execution_count": 27,
   "metadata": {},
   "outputs": [
    {
     "data": {
      "text/plain": [
       "'*xt*rminat*!'"
      ]
     },
     "execution_count": 27,
     "metadata": {},
     "output_type": "execute_result"
    }
   ],
   "source": [
    "str1 = str1.replace('e', '*')\n",
    "str1"
   ]
  },
  {
   "cell_type": "code",
   "execution_count": 31,
   "metadata": {},
   "outputs": [
    {
     "data": {
      "text/plain": [
       "8"
      ]
     },
     "execution_count": 31,
     "metadata": {},
     "output_type": "execute_result"
    }
   ],
   "source": [
    "str1 = 'exterminate!' \n",
    "str2 = 'number one - the larch'\n",
    "str2 = str2.capitalize()\n",
    "str2.index('n')"
   ]
  },
  {
   "cell_type": "code",
   "execution_count": null,
   "metadata": {},
   "outputs": [],
   "source": [
    "def iterPower(base, exp):\n",
    "    '''\n",
    "    base: int or float.\n",
    "    exp: int >= 0\n",
    " \n",
    "    returns: int or float, base^exp\n",
    "    '''\n",
    "    # Your code here\n",
    "    if exp == 1:\n",
    "        return base\n",
    "    else:\n",
    "        return base * iterPower(base, exp - 1)\n"
   ]
  },
  {
   "cell_type": "code",
   "execution_count": 32,
   "metadata": {},
   "outputs": [],
   "source": [
    "def gcdIter(a, b):\n",
    "    '''\n",
    "    a, b: positive integers\n",
    "    \n",
    "    returns: a positive integer, the greatest common divisor of a & b.\n",
    "    '''\n",
    "    # Your code here\n",
    "    if a < b:\n",
    "        divisor = a\n",
    "    else:\n",
    "        divisor = b\n",
    "    while divisor > 0:\n",
    "        if a % divisor == 0 and b % divisor == 0:\n",
    "            return divisor\n",
    "        else:\n",
    "            divisor -= 1\n",
    "        "
   ]
  },
  {
   "cell_type": "code",
   "execution_count": 36,
   "metadata": {},
   "outputs": [
    {
     "data": {
      "text/plain": [
       "1"
      ]
     },
     "execution_count": 36,
     "metadata": {},
     "output_type": "execute_result"
    }
   ],
   "source": [
    "gcdIter(17, 12)"
   ]
  },
  {
   "cell_type": "code",
   "execution_count": 7,
   "metadata": {},
   "outputs": [],
   "source": [
    "def isIn(char, aStr = 'abcdefghijklmnopqrstuvwxyz'):\n",
    "    '''\n",
    "    char: a single character\n",
    "    aStr: an alphabetized string\n",
    "    \n",
    "    returns: True if char is in aStr; False otherwise\n",
    "    '''\n",
    "    # Your code here\n",
    "    char = char.lower()\n",
    "    aStr = aStr.lower()\n",
    "    try:\n",
    "        low = aStr[0]\n",
    "        high = aStr[-1]\n",
    "        mid = int( len( aStr ) /2)\n",
    "    except:\n",
    "        return False\n",
    "\n",
    "    if char == aStr[mid]:\n",
    "        return True\n",
    "    \n",
    "    if char == aStr[-1] or char == aStr[0]:\n",
    "        return True\n",
    "\n",
    "    if len(aStr) == 0 or len(aStr) == 1:\n",
    "        return False\n",
    "    else:\n",
    "        if char > low:\n",
    "            return isIn(char, aStr[mid-1:])\n",
    "        else:\n",
    "            return isIn(char, aStr[:mid+1])\n",
    "    \n"
   ]
  },
  {
   "cell_type": "code",
   "execution_count": 8,
   "metadata": {},
   "outputs": [
    {
     "ename": "KeyboardInterrupt",
     "evalue": "",
     "output_type": "error",
     "traceback": [
      "\u001b[1;31m---------------------------------------------------------------------------\u001b[0m",
      "\u001b[1;31mKeyboardInterrupt\u001b[0m                         Traceback (most recent call last)",
      "\u001b[1;32md:\\Courses\\UG-(edx) Introduction to Computer Science and Programming Using Python\\Unit 2\\codes.ipynb Cell 25\u001b[0m in \u001b[0;36m<cell line: 1>\u001b[1;34m()\u001b[0m\n\u001b[1;32m----> <a href='vscode-notebook-cell:/d%3A/Courses/UG-%28edx%29%20Introduction%20to%20Computer%20Science%20and%20Programming%20Using%20Python/Unit%202/codes.ipynb#X33sZmlsZQ%3D%3D?line=0'>1</a>\u001b[0m isIn(\u001b[39m'\u001b[39;49m\u001b[39ma\u001b[39;49m\u001b[39m'\u001b[39;49m, \u001b[39m'\u001b[39;49m\u001b[39mabcdefghijklmnopqrstuvwxyz\u001b[39;49m\u001b[39m'\u001b[39;49m)\n",
      "\u001b[1;32md:\\Courses\\UG-(edx) Introduction to Computer Science and Programming Using Python\\Unit 2\\codes.ipynb Cell 25\u001b[0m in \u001b[0;36misIn\u001b[1;34m(char, aStr)\u001b[0m\n\u001b[0;32m     <a href='vscode-notebook-cell:/d%3A/Courses/UG-%28edx%29%20Introduction%20to%20Computer%20Science%20and%20Programming%20Using%20Python/Unit%202/codes.ipynb#X33sZmlsZQ%3D%3D?line=13'>14</a>\u001b[0m \u001b[39mif\u001b[39;00m char \u001b[39m>\u001b[39m aStr[mid]:\n\u001b[0;32m     <a href='vscode-notebook-cell:/d%3A/Courses/UG-%28edx%29%20Introduction%20to%20Computer%20Science%20and%20Programming%20Using%20Python/Unit%202/codes.ipynb#X33sZmlsZQ%3D%3D?line=14'>15</a>\u001b[0m     low \u001b[39m=\u001b[39m mid\n\u001b[1;32m---> <a href='vscode-notebook-cell:/d%3A/Courses/UG-%28edx%29%20Introduction%20to%20Computer%20Science%20and%20Programming%20Using%20Python/Unit%202/codes.ipynb#X33sZmlsZQ%3D%3D?line=15'>16</a>\u001b[0m \u001b[39melif\u001b[39;00m char \u001b[39m<\u001b[39m aStr[mid]:\n\u001b[0;32m     <a href='vscode-notebook-cell:/d%3A/Courses/UG-%28edx%29%20Introduction%20to%20Computer%20Science%20and%20Programming%20Using%20Python/Unit%202/codes.ipynb#X33sZmlsZQ%3D%3D?line=16'>17</a>\u001b[0m     high \u001b[39m=\u001b[39m mid\n\u001b[0;32m     <a href='vscode-notebook-cell:/d%3A/Courses/UG-%28edx%29%20Introduction%20to%20Computer%20Science%20and%20Programming%20Using%20Python/Unit%202/codes.ipynb#X33sZmlsZQ%3D%3D?line=17'>18</a>\u001b[0m \u001b[39melse\u001b[39;00m:\n",
      "\u001b[1;31mKeyboardInterrupt\u001b[0m: "
     ]
    }
   ],
   "source": [
    "isIn('a', 'abcdefghijklmnopqrstuvwxyz')"
   ]
  },
  {
   "cell_type": "code",
   "execution_count": null,
   "metadata": {},
   "outputs": [],
   "source": []
  }
 ],
 "metadata": {
  "kernelspec": {
   "display_name": "Python 3.8.13 ('edx_comp')",
   "language": "python",
   "name": "python3"
  },
  "language_info": {
   "codemirror_mode": {
    "name": "ipython",
    "version": 3
   },
   "file_extension": ".py",
   "mimetype": "text/x-python",
   "name": "python",
   "nbconvert_exporter": "python",
   "pygments_lexer": "ipython3",
   "version": "3.8.13"
  },
  "orig_nbformat": 4,
  "vscode": {
   "interpreter": {
    "hash": "d804f591dec08f80074c7f2c620195c310f0c4edf73dda9ffc350f1ada91e489"
   }
  }
 },
 "nbformat": 4,
 "nbformat_minor": 2
}
