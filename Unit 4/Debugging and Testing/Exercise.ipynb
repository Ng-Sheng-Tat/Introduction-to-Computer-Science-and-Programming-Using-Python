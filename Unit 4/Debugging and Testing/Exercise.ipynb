{
 "cells": [
  {
   "cell_type": "markdown",
   "metadata": {},
   "source": [
    "**Exercise: integer division**\n",
    "\n",
    "Consider the following function definition:\n",
    "\n",
    "```\n",
    "def integerDivision(x, a):\n",
    "    \"\"\"\n",
    "    x: a non-negative integer argument\n",
    "    a: a positive integer argument\n",
    "\n",
    "    returns: integer, the integer division of x divided by a.\n",
    "    \"\"\"\n",
    "    while x >= a:\n",
    "        count += 1\n",
    "        x = x - a\n",
    "    return count\n",
    "```\n",
    "\n",
    "When we call\n",
    "\n",
    "```\n",
    "print(integerDivision(5, 3))\n",
    "```\n",
    "\n",
    "we get the following error message:\n",
    "\n",
    "```\n",
    "File \"temp.py\", line 9, in integerDivision\n",
    "    count += 1\n",
    "UnboundLocalError: local variable 'count' referenced before assignment\n",
    "```\n",
    "\n",
    "Your task is to modify the code for ``integerDivision`` so that this error does not occur.\n",
    "\n",
    "```\n",
    "def integerDivision(x, a):\n",
    "    \"\"\"\n",
    "    x: a non-negative integer argument\n",
    "    a: a positive integer argument\n",
    "\n",
    "    returns: integer, the integer division of x divided by a.\n",
    "    \"\"\"\n",
    "    count = 0\n",
    "    while x >= a:\n",
    "        count += 1\n",
    "        x = x - a\n",
    "    return count\n",
    "\n",
    "```"
   ]
  }
 ],
 "metadata": {
  "kernelspec": {
   "display_name": "Python 3.9.7 ('base')",
   "language": "python",
   "name": "python3"
  },
  "language_info": {
   "name": "python",
   "version": "3.9.7"
  },
  "orig_nbformat": 4,
  "vscode": {
   "interpreter": {
    "hash": "88279d2366fe020547cde40dd65aa0e3aa662a6ec1f3ca12d88834876c85e1a6"
   }
  }
 },
 "nbformat": 4,
 "nbformat_minor": 2
}
