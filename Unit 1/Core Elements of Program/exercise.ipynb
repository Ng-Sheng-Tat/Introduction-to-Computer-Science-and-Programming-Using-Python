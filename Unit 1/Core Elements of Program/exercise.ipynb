{
 "cells": [
  {
   "cell_type": "markdown",
   "metadata": {},
   "source": [
    "**Exercise: hello world**\n",
    "\n",
    "Write a piece of Python code that prints out the string ``hello world``\n",
    "\n",
    "Answer\n",
    "\n",
    "``print(\"hello world\")``"
   ]
  },
  {
   "cell_type": "markdown",
   "metadata": {},
   "source": []
  },
  {
   "cell_type": "markdown",
   "metadata": {},
   "source": [
    "**Exercise: happy**\n",
    "\n",
    "Write a piece of Python code that prints out the string '``hello world``' if the value of an integer variable, ``happy``, is strictly greater than 2.\n",
    "\n",
    "```\n",
    "if happy > 2:\n",
    "    print('hello world')\n",
    "```"
   ]
  },
  {
   "cell_type": "markdown",
   "metadata": {},
   "source": []
  },
  {
   "cell_type": "markdown",
   "metadata": {},
   "source": [
    "**Exercise: while exercise 1**\n",
    "\n",
    "In this problem you'll be given a chance to practice writing some while loops.\n",
    "\n",
    "1. Convert the following into code that uses a while loop.\n",
    "\n",
    "- prints 2\n",
    "- prints 4\n",
    "- prints 6\n",
    "- prints 8\n",
    "- prints 10\n",
    "- prints Goodbye!\n",
    "\n",
    "```\n",
    "num = 2\n",
    "while num < 11:\n",
    "    print(num)\n",
    "    num += 2\n",
    "print(\"Goodbye!\")\n",
    "```"
   ]
  },
  {
   "cell_type": "markdown",
   "metadata": {},
   "source": []
  },
  {
   "cell_type": "markdown",
   "metadata": {},
   "source": [
    "**Exercise: for**\n",
    "\n",
    "In this problem you'll be given a chance to practice writing some for loops.\n",
    "\n",
    "1. Convert the following code into code that uses a for loop.\n",
    "\n",
    "- prints 2\n",
    "- prints 4\n",
    "- prints 6\n",
    "- prints 8\n",
    "- prints 10\n",
    "- prints Goodbye!\n",
    "\n",
    "```\n",
    "for i in range(2,11,2):\n",
    "    print(i)\n",
    "    \n",
    "print(\"Goodbye!\")\n",
    "```"
   ]
  },
  {
   "cell_type": "markdown",
   "metadata": {},
   "source": []
  }
 ],
 "metadata": {
  "language_info": {
   "name": "python"
  },
  "orig_nbformat": 4
 },
 "nbformat": 4,
 "nbformat_minor": 2
}
