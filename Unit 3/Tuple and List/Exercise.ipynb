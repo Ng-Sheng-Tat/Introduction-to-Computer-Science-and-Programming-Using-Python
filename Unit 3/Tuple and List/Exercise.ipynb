{
 "cells": [
  {
   "cell_type": "markdown",
   "metadata": {},
   "source": [
    "**Exercise: Odd Typles**\n",
    "\n",
    "Write a procedure called ``oddTuples``, which takes a tuple as input, and returns a new tuple as output, where every other element of the input tuple is copied, starting with the first one. So if test is the tuple ``('I', 'am', 'a', 'test', 'tuple')``, then evaluating ``oddTuples`` on this input would return the tuple ``('I', 'a', 'tuple')``.\n",
    "\n",
    "```\n",
    "def oddTuples(aTup):\n",
    "    '''\n",
    "    aTup: a tuple\n",
    "    \n",
    "    returns: tuple, every other element of aTup. \n",
    "    '''\n",
    "    # Your Code Here\n",
    "    returntuple = ()\n",
    "    for i in range(len(aTup)):\n",
    "        if i % 2 == 0:\n",
    "            returntuple += (aTup[i], )\n",
    "    return returntuple\n",
    "``"
   ]
  },
  {
   "cell_type": "markdown",
   "metadata": {},
   "source": [
    "**Exercise: apply to each**\n",
    "\n",
    "Here is the code for a function ``applyToEach``:\n",
    "\n",
    "```\n",
    "def applyToEach(L, f):\n",
    "    for i in range(len(L)):\n",
    "        L[i] = f(L[i])\n",
    "```\n",
    "\n",
    "Assume that\n",
    "\n",
    "``testList = [1, -4, 8, -9]``\n",
    "\n",
    "For each of the following questions (which you may assume is evaluated independently of the previous questions, so that testList has the value indicated above), provide an expression using ``applyToEach``, so that after evaluation ``testList`` has the indicated value. You may need to write a simple procedure in each question to help with this process.\n",
    "\n",
    "Example Question:\n",
    "```\n",
    ">>> print(testList)\n",
    "[5, -20, 40, -45]\n",
    "```\n",
    "\n",
    "**Solution to Example Question**\n",
    "\n",
    "```\n",
    "def timesFive(a):\n",
    "    return a * 5\n",
    "\n",
    "applyToEach(testList, timesFive)\n",
    "```\n",
    "\n",
    "```\n",
    "  >>> print(testList)\n",
    "  [1, 4, 8, 9]\n",
    "```\n",
    "\n",
    "  ```\n",
    "# Your Code Here\n",
    "applyToEach(testList, abs)\n",
    "  ```"
   ]
  }
 ],
 "metadata": {
  "language_info": {
   "name": "python"
  },
  "orig_nbformat": 4
 },
 "nbformat": 4,
 "nbformat_minor": 2
}
