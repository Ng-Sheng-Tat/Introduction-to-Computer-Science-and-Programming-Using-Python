{
 "cells": [
  {
   "cell_type": "markdown",
   "metadata": {},
   "source": [
    "**Question 4**\n",
    "\n",
    "Write a function called ``getSublists``, which takes as parameters a list of integers named ``L`` and an integer named ``n``.\n",
    "\n",
    "- assume ``L`` is not empty\n",
    "- assume ``0 < n <= len(L)``\n",
    "\n",
    "This function returns a list of all possible sublists in L of length n without skipping elements in ``L``. The sublists in the returned list should be ordered in the way they appear in ``L``, with those sublists starting from a smaller index being at the front of the list.\n",
    "\n",
    "Example 1, if ``L = [10, 4, 6, 8, 3, 4, 5, 7, 7, 2]`` and ``n = 4`` then your function should return the list ``[[10, 4, 6, 8], [4, 6, 8, 3], [6, 8, 3, 4], [8, 3, 4, 5], [3, 4, 5, 7], [4, 5, 7, 7], [5, 7, 7, 2]]``\n",
    "\n",
    "Example 2, if ``L = [1, 1, 1, 1, 4]`` and ``n = 2`` then your function should return the list ``[[1, 1], [1, 1], [1, 1], [1, 4]]``\n",
    "\n",
    "\n",
    "Your function does not have to be recursive. Do not leave any debugging print statements when you paste your code in the box."
   ]
  },
  {
   "cell_type": "code",
   "execution_count": 6,
   "metadata": {},
   "outputs": [],
   "source": [
    "L = [1, 1, 1, 1, 4]\n",
    "n = 2"
   ]
  },
  {
   "cell_type": "code",
   "execution_count": 7,
   "metadata": {},
   "outputs": [],
   "source": [
    "# Answer\n",
    "def getSublists(L, n):\n",
    "    returnlist = []\n",
    "    countindex = 0\n",
    "\n",
    "    for i in range(len(L) - n + 1):\n",
    "        returnlist.append(L[countindex:countindex+n])\n",
    "        countindex += 1\n",
    "    \n",
    "    return returnlist"
   ]
  },
  {
   "cell_type": "code",
   "execution_count": 8,
   "metadata": {},
   "outputs": [
    {
     "name": "stdout",
     "output_type": "stream",
     "text": [
      "[[1, 1], [1, 1], [1, 1], [1, 4]]\n"
     ]
    }
   ],
   "source": [
    "getSublists(L, n)"
   ]
  }
 ],
 "metadata": {
  "kernelspec": {
   "display_name": "Python 3.9.7 ('base')",
   "language": "python",
   "name": "python3"
  },
  "language_info": {
   "codemirror_mode": {
    "name": "ipython",
    "version": 3
   },
   "file_extension": ".py",
   "mimetype": "text/x-python",
   "name": "python",
   "nbconvert_exporter": "python",
   "pygments_lexer": "ipython3",
   "version": "3.9.7"
  },
  "orig_nbformat": 4,
  "vscode": {
   "interpreter": {
    "hash": "88279d2366fe020547cde40dd65aa0e3aa662a6ec1f3ca12d88834876c85e1a6"
   }
  }
 },
 "nbformat": 4,
 "nbformat_minor": 2
}
