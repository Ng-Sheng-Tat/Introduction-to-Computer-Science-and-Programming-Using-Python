{
 "cells": [
  {
   "cell_type": "markdown",
   "metadata": {},
   "source": [
    "**Problem 5**\n",
    "\n",
    "Write a Python function that returns a list of keys in ``aDict`` that map to integer values that are unique (i.e. values appear exactly once in ``aDict``). The list of keys you return should be sorted in increasing order. (If ``aDict`` does not contain any unique values, you should return an empty list.)\n",
    "\n",
    "This function takes in a dictionary and returns a list.\n",
    "\n",
    "```\n",
    "def uniqueValues(aDict):\n",
    "    '''\n",
    "    aDict: a dictionary\n",
    "    '''\n",
    "    # Your code here\n",
    "```"
   ]
  },
  {
   "cell_type": "code",
   "execution_count": 102,
   "metadata": {},
   "outputs": [],
   "source": [
    "aDict = {0: 9, 1: 1, 2: 7, 3: 3, 5: 2, 6: 5, 7: 8, 9: 10, 10: 0}"
   ]
  },
  {
   "cell_type": "code",
   "execution_count": 94,
   "metadata": {},
   "outputs": [],
   "source": [
    "# Answer\n",
    "def uniqueValues(aDict):\n",
    "    '''\n",
    "    aDict: a dictionary\n",
    "    '''\n",
    "    # Your code here\n",
    "    uniquevallist = []\n",
    "    returnvallist = []\n",
    "    blacklist = []\n",
    "    vallist = list(aDict.values())\n",
    "    keylist = list(aDict.keys())\n",
    "\n",
    "    for i in range(len(vallist)):\n",
    "        if vallist[i] in uniquevallist:\n",
    "            blacklist.append(vallist[i])\n",
    "            uniquevallist.remove(vallist[i])\n",
    "        else:\n",
    "            if vallist[i] not in blacklist:\n",
    "                uniquevallist.append(vallist[i])\n",
    "            else:\n",
    "                pass\n",
    "\n",
    "    for uniqueval in uniquevallist:\n",
    "        position = vallist.index(uniqueval)\n",
    "        returnvallist.append(keylist[position])\n",
    "    \n",
    "    returnvallist.sort()\n",
    "    return returnvallist\n"
   ]
  },
  {
   "cell_type": "code",
   "execution_count": 103,
   "metadata": {},
   "outputs": [
    {
     "name": "stdout",
     "output_type": "stream",
     "text": [
      "[0, 1, 2, 3, 5, 6, 7, 9, 10]\n"
     ]
    }
   ],
   "source": [
    "uniqueValues(aDict)"
   ]
  },
  {
   "cell_type": "markdown",
   "metadata": {},
   "source": [
    "**Draft Code**"
   ]
  },
  {
   "cell_type": "code",
   "execution_count": 77,
   "metadata": {},
   "outputs": [],
   "source": [
    "Dict = {'a':1, 'b':3, 'c':-1, 'd':3, 'e':10}\n",
    "# c, a, b"
   ]
  },
  {
   "cell_type": "code",
   "execution_count": 76,
   "metadata": {},
   "outputs": [],
   "source": [
    "def uniqueValues(aDict):\n",
    "    '''\n",
    "    aDict: a dictionary\n",
    "    '''\n",
    "    # Your code here\n",
    "    # uniquevallist = []\n",
    "    # uniquekeylist = []\n",
    "    # keylist = list(aDict.keys())\n",
    "    # vallist = list(aDict.values())\n",
    "    # for i in range(len(keylist)):\n",
    "    #     if vallist[i] not in uniquevallist:\n",
    "    #         uniquevallist.append(vallist[i])\n",
    "    #         uniquekeylist.append(keylist[i])\n",
    "\n",
    "    returnlist = []\n",
    "    sorttuple = sorted(aDict.items(), key=lambda x: x[1])\n",
    "\n",
    "    for i in sorttuple:\n",
    "        returnlist.append(i[0])\n",
    "    \n",
    "    print(returnlist)\n",
    "\n",
    "\n"
   ]
  },
  {
   "cell_type": "code",
   "execution_count": 46,
   "metadata": {},
   "outputs": [
    {
     "name": "stdout",
     "output_type": "stream",
     "text": [
      "['c', 'a', 'b', 'd', 'e']\n"
     ]
    }
   ],
   "source": [
    "uniqueValues(Dict)"
   ]
  }
 ],
 "metadata": {
  "kernelspec": {
   "display_name": "Python 3.8.13 ('edx_comp')",
   "language": "python",
   "name": "python3"
  },
  "language_info": {
   "codemirror_mode": {
    "name": "ipython",
    "version": 3
   },
   "file_extension": ".py",
   "mimetype": "text/x-python",
   "name": "python",
   "nbconvert_exporter": "python",
   "pygments_lexer": "ipython3",
   "version": "3.8.13"
  },
  "orig_nbformat": 4,
  "vscode": {
   "interpreter": {
    "hash": "d804f591dec08f80074c7f2c620195c310f0c4edf73dda9ffc350f1ada91e489"
   }
  }
 },
 "nbformat": 4,
 "nbformat_minor": 2
}
