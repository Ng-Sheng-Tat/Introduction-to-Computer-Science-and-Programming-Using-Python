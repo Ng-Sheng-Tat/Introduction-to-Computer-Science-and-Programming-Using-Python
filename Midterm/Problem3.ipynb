{
 "cells": [
  {
   "cell_type": "markdown",
   "metadata": {},
   "source": [
    "**Problem 3**\n",
    "\n",
    "Write a Python function, ``twoQuadratics``, that takes in two sets of coefficients and x-values and prints the sum of the results of evaluating two quadratic equations. It does not do anything else. That is, you should evaluate and print the result of the following equation: $a_1*x_1^2 + b_1*x_1 + c_1 + a_2 *x_2^2 + b_2*x_2 + c_2$\n",
    "\n",
    "You are given the following function, ``evalQuadratic``\n",
    "\n",
    "```\n",
    "def evalQuadratic(a, b, c, x):\n",
    "   '''\n",
    "   a, b, c: numerical values for the coefficients of a quadratic equation\n",
    "   x: numerical value at which to evaluate the quadratic.\n",
    "   '''\n",
    "   return a*x*x + b*x + c\n",
    "    \n",
    "```\n",
    "\n",
    "Use the given function (you don't need to redefine ``evalQuadratic`` in this box; when you call ``evalQuadratic``, our definition will be used).\n",
    "\n",
    "```\n",
    "def twoQuadratics(a1, b1, c1, x1, a2, b2, c2, x2):\n",
    "    '''\n",
    "    a1, b1, c1: one set of coefficients of a quadratic equation\n",
    "    a2, b2, c2: another set of coefficients of a quadratic equation\n",
    "    x1, x2: values at which to evaluate the quadratics\n",
    "    '''\n",
    "  # Your code here \n",
    "```"
   ]
  },
  {
   "cell_type": "code",
   "execution_count": null,
   "metadata": {},
   "outputs": [],
   "source": [
    "# Answer\n",
    "def twoQuadratics(a1, b1, c1, x1, a2, b2, c2, x2):\n",
    "    '''\n",
    "    a1, b1, c1: one set of coefficients of a quadratic equation\n",
    "    a2, b2, c2: another set of coefficients of a quadratic equation\n",
    "    x1, x2: values at which to evaluate the quadratics\n",
    "    '''\n",
    "    # Your code here \n",
    "    # eq1 = a1 * x1**2 + b1 *x1 + c1\n",
    "    # eq2 = a2 * x2**2 + b2 *x2 + c2\n",
    "    eq1 = evalQuadratic(a1, b1, c1, x1)\n",
    "    eq2 = evalQuadratic(a2, b2, c2, x2)\n",
    "    \n",
    "    print(eq1 + eq2)"
   ]
  }
 ],
 "metadata": {
  "kernelspec": {
   "display_name": "Python 3.9.7 ('base')",
   "language": "python",
   "name": "python3"
  },
  "language_info": {
   "name": "python",
   "version": "3.9.7"
  },
  "orig_nbformat": 4,
  "vscode": {
   "interpreter": {
    "hash": "88279d2366fe020547cde40dd65aa0e3aa662a6ec1f3ca12d88834876c85e1a6"
   }
  }
 },
 "nbformat": 4,
 "nbformat_minor": 2
}
