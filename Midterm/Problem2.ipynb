{
 "cells": [
  {
   "cell_type": "markdown",
   "metadata": {},
   "source": [
    "**Problem 2**"
   ]
  },
  {
   "cell_type": "markdown",
   "metadata": {},
   "source": [
    "**Question 1**\n",
    "\n",
    "Consider the statement: ``L = {'1':1, '2':2, '3':3}``. Which is correct?\n",
    "\n",
    "L maps strings to integers"
   ]
  },
  {
   "cell_type": "markdown",
   "metadata": {},
   "source": []
  },
  {
   "cell_type": "markdown",
   "metadata": {},
   "source": [
    "**Question 2**\n",
    "\n",
    "Assume a break statement is executed inside a loop and that the loop is inside a function. Which of the following is correct?\n",
    "\n",
    "The loop will always immediately terminate. - Wrong"
   ]
  },
  {
   "cell_type": "markdown",
   "metadata": {},
   "source": []
  },
  {
   "cell_type": "markdown",
   "metadata": {},
   "source": [
    "**Question 3**\n",
    "\n",
    "In Python, which of the following is a mutable object?\n",
    "\n",
    "a list"
   ]
  },
  {
   "cell_type": "markdown",
   "metadata": {},
   "source": []
  },
  {
   "cell_type": "markdown",
   "metadata": {},
   "source": [
    "**Question 4**\n",
    "\n",
    "Assume the statement ``s[1024] = 3`` does not produce an error message. This implies:\n",
    "\n",
    "\n",
    "``type(s)`` can be ``list``"
   ]
  },
  {
   "cell_type": "markdown",
   "metadata": {},
   "source": []
  },
  {
   "cell_type": "markdown",
   "metadata": {},
   "source": [
    "**Question 5**\n",
    "\n",
    "Consider the code:\n",
    "```\n",
    "L = [1,2,3]\n",
    "d = {'a': 'b'}\n",
    "def f(x):\n",
    "    return 3\n",
    "```\n",
    "\n",
    "Which of the following does NOT cause an exception to be thrown?\n",
    "\n",
    "```\n",
    "for i in range(1000001, -1, -2):\n",
    "    print(f)\n",
    "```"
   ]
  },
  {
   "cell_type": "markdown",
   "metadata": {},
   "source": []
  },
  {
   "cell_type": "markdown",
   "metadata": {},
   "source": [
    "**Question 6**\n",
    "\n",
    "Examine the following code snippet:\n",
    "\n",
    "```\n",
    "  stuff  = _____\n",
    "  for thing in stuff:\n",
    "        if thing == 'iQ':\n",
    "           print(\"Found it\")\n",
    "```\n",
    "\n",
    "Select all the values of the variable \"stuff\" that will make the code print \"Found it\".\n",
    "\n",
    "- ``[\"iBoy\", \"iGirl\", \"iQ\", \"iC\",\"iPaid\",\"iPad\"]``\n",
    "- ``(\"iBoy\", \"iGirl\", \"iQ\", \"iC\",\"iPaid\",\"iPad\")``\n",
    "- ``[\"iQ\"]``"
   ]
  },
  {
   "cell_type": "markdown",
   "metadata": {},
   "source": [
    "**Question 7**\n",
    "\n",
    "The following Python code is supposed to compute the square of an integer by using successive additions.\n",
    "\n",
    "```\n",
    "def Square(x):\n",
    "    return SquareHelper(abs(x), abs(x))\n",
    "\n",
    "def SquareHelper(n, x):\n",
    "    if n == 0:\n",
    "        return 0\n",
    "    return SquareHelper(n-1, x) + x\n",
    "```\n",
    "\n",
    "Not considering recursion depth limitations, what is wrong with this implementation of procedure ``Square``? \n",
    "\n",
    "Check all that apply.\n",
    "\n",
    "Nothing is wrong; the code is fine as-is.\n"
   ]
  },
  {
   "cell_type": "markdown",
   "metadata": {},
   "source": []
  }
 ],
 "metadata": {
  "language_info": {
   "name": "python"
  },
  "orig_nbformat": 4
 },
 "nbformat": 4,
 "nbformat_minor": 2
}
