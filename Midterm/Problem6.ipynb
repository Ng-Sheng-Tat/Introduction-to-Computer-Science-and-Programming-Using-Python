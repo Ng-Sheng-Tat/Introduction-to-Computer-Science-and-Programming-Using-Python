{
 "cells": [
  {
   "cell_type": "markdown",
   "metadata": {},
   "source": [
    "**Problem 6**\n",
    "\n",
    "Write a recursive Python function, given a non-negative integer N, to calculate and return the sum of its digits.\n",
    "\n",
    "Hint: Mod (%) by 10 gives you the rightmost digit (``126 % 10`` is 6), while doing integer division by 10 removes the rightmost digit (``126 // 10`` is 12).\n",
    "\n",
    "This function has to be recursive; you may not use loops!\n",
    "\n",
    "This function takes in one integer and returns one integer."
   ]
  },
  {
   "cell_type": "markdown",
   "metadata": {},
   "source": [
    "```\n",
    "def sumDigits(N):\n",
    "    '''\n",
    "    N: a non-negative integer\n",
    "    '''\n",
    "    # Your code here\n",
    "```"
   ]
  },
  {
   "cell_type": "code",
   "execution_count": 12,
   "metadata": {},
   "outputs": [],
   "source": [
    "a = 45632"
   ]
  },
  {
   "cell_type": "code",
   "execution_count": 10,
   "metadata": {},
   "outputs": [],
   "source": [
    "# Answer\n",
    "def sumDigits(N):\n",
    "    '''\n",
    "    N: a non-negative integer\n",
    "    '''\n",
    "    # Your code here\n",
    "    if N < 10:\n",
    "        return N\n",
    "    else:\n",
    "        return sumDigits(N//10) + N%10"
   ]
  },
  {
   "cell_type": "code",
   "execution_count": 13,
   "metadata": {},
   "outputs": [
    {
     "data": {
      "text/plain": [
       "20"
      ]
     },
     "execution_count": 13,
     "metadata": {},
     "output_type": "execute_result"
    }
   ],
   "source": [
    "sumDigits(a)"
   ]
  }
 ],
 "metadata": {
  "kernelspec": {
   "display_name": "Python 3.9.7 ('base')",
   "language": "python",
   "name": "python3"
  },
  "language_info": {
   "codemirror_mode": {
    "name": "ipython",
    "version": 3
   },
   "file_extension": ".py",
   "mimetype": "text/x-python",
   "name": "python",
   "nbconvert_exporter": "python",
   "pygments_lexer": "ipython3",
   "version": "3.9.7"
  },
  "orig_nbformat": 4,
  "vscode": {
   "interpreter": {
    "hash": "88279d2366fe020547cde40dd65aa0e3aa662a6ec1f3ca12d88834876c85e1a6"
   }
  }
 },
 "nbformat": 4,
 "nbformat_minor": 2
}
